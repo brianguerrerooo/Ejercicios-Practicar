{
  "nbformat": 4,
  "nbformat_minor": 0,
  "metadata": {
    "colab": {
      "provenance": [],
      "authorship_tag": "ABX9TyNvHG19gKbkxzdJZDH7du1i",
      "include_colab_link": true
    },
    "kernelspec": {
      "name": "python3",
      "display_name": "Python 3"
    },
    "language_info": {
      "name": "python"
    }
  },
  "cells": [
    {
      "cell_type": "markdown",
      "metadata": {
        "id": "view-in-github",
        "colab_type": "text"
      },
      "source": [
        "<a href=\"https://colab.research.google.com/github/brianguerrerooo/Ejercicios-Practicar/blob/main/005promedio_de_notas_py.ipynb\" target=\"_parent\"><img src=\"https://colab.research.google.com/assets/colab-badge.svg\" alt=\"Open In Colab\"/></a>"
      ]
    },
    {
      "cell_type": "code",
      "execution_count": 3,
      "metadata": {
        "colab": {
          "base_uri": "https://localhost:8080/"
        },
        "id": "-mlK3ZVaAy1W",
        "outputId": "f97cb5f2-958d-426e-c8b6-358c712632f4"
      },
      "outputs": [
        {
          "output_type": "stream",
          "name": "stdout",
          "text": [
            "Ingrese nota 1\n",
            "5\n",
            "Ingrese nota 2\n",
            "3\n",
            "Ingrese nota 3\n",
            "2\n",
            "Ingrese nota 4\n",
            "7\n",
            "Ingrese nota 5\n",
            "7\n",
            " \n",
            "4.8\n"
          ]
        }
      ],
      "source": [
        "print(\"Ingrese nota 1\")\n",
        "nota1 = float(input())\n",
        "print(\"Ingrese nota 2\")\n",
        "nota2 = float(input())\n",
        "print(\"Ingrese nota 3\")\n",
        "nota3 = float(input())\n",
        "print(\"Ingrese nota 4\")\n",
        "nota4 = float(input())\n",
        "print(\"Ingrese nota 5\")\n",
        "nota5 = float(input())\n",
        "\n",
        "promedio = (nota1 + nota2 + nota3 + nota4 + nota5)/5\n",
        "redondeado = round(promedio, 1)\n",
        "print(\" \")\n",
        "print(redondeado)\n"
      ]
    }
  ]
}