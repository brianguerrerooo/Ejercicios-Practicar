{
  "nbformat": 4,
  "nbformat_minor": 0,
  "metadata": {
    "colab": {
      "provenance": [],
      "authorship_tag": "ABX9TyMQoMMQRSr7jaLnQV+QSzPq",
      "include_colab_link": true
    },
    "kernelspec": {
      "name": "python3",
      "display_name": "Python 3"
    },
    "language_info": {
      "name": "python"
    }
  },
  "cells": [
    {
      "cell_type": "markdown",
      "metadata": {
        "id": "view-in-github",
        "colab_type": "text"
      },
      "source": [
        "<a href=\"https://colab.research.google.com/github/brianguerrerooo/Ejercicios-Practicar/blob/main/Volumen_de_una_esfera_py.ipynb\" target=\"_parent\"><img src=\"https://colab.research.google.com/assets/colab-badge.svg\" alt=\"Open In Colab\"/></a>"
      ]
    },
    {
      "cell_type": "code",
      "execution_count": 15,
      "metadata": {
        "colab": {
          "base_uri": "https://localhost:8080/"
        },
        "id": "uuBLUDvsRHd9",
        "outputId": "7d20dce2-6daa-45be-9e8f-00b7d7fc883d"
      },
      "outputs": [
        {
          "output_type": "stream",
          "name": "stdout",
          "text": [
            "CALCULADORA VOLUMEN DE UNA ESFERA:\n",
            "Digite el valor del radio: 3\n",
            "113.04\n"
          ]
        }
      ],
      "source": [
        "print(\"CALCULADORA VOLUMEN DE UNA ESFERA:\")\n",
        "\n",
        "radio = float(input(\"Digite el valor del radio: \"))\n",
        "pi = 3.14\n",
        "volumen = (4/3) * pi * radio**3\n",
        "resultado= round(volumen, 2)\n",
        "print(resultado)\n"
      ]
    }
  ]
}