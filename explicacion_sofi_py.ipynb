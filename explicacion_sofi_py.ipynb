{
  "nbformat": 4,
  "nbformat_minor": 0,
  "metadata": {
    "colab": {
      "provenance": [],
      "authorship_tag": "ABX9TyOP0dVTjTJSSM+ymW4P2jl3",
      "include_colab_link": true
    },
    "kernelspec": {
      "name": "python3",
      "display_name": "Python 3"
    },
    "language_info": {
      "name": "python"
    }
  },
  "cells": [
    {
      "cell_type": "markdown",
      "metadata": {
        "id": "view-in-github",
        "colab_type": "text"
      },
      "source": [
        "<a href=\"https://colab.research.google.com/github/brianguerrerooo/Ejercicios-Practicar/blob/main/explicacion_sofi_py.ipynb\" target=\"_parent\"><img src=\"https://colab.research.google.com/assets/colab-badge.svg\" alt=\"Open In Colab\"/></a>"
      ]
    },
    {
      "cell_type": "code",
      "execution_count": 1,
      "metadata": {
        "colab": {
          "base_uri": "https://localhost:8080/"
        },
        "id": "l4-8ZJ2EjVXB",
        "outputId": "c05619d8-c5a3-41a7-bce6-52f2dd43cbbe"
      },
      "outputs": [
        {
          "output_type": "stream",
          "name": "stdout",
          "text": [
            "Hola sofia\n",
            "ingrese su edad: \n",
            "21\n",
            "21\n"
          ]
        }
      ],
      "source": [
        "print(\"Hola sofia\")\n",
        "print(\"ingrese su edad: \")\n",
        "edad = int(input())\n",
        "\n",
        "print(edad)"
      ]
    }
  ]
}