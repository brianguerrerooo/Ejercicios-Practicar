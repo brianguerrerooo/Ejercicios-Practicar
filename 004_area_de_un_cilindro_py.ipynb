{
  "nbformat": 4,
  "nbformat_minor": 0,
  "metadata": {
    "colab": {
      "provenance": [],
      "authorship_tag": "ABX9TyN3NLFYMhppxueLF+4jjKBl",
      "include_colab_link": true
    },
    "kernelspec": {
      "name": "python3",
      "display_name": "Python 3"
    },
    "language_info": {
      "name": "python"
    }
  },
  "cells": [
    {
      "cell_type": "markdown",
      "metadata": {
        "id": "view-in-github",
        "colab_type": "text"
      },
      "source": [
        "<a href=\"https://colab.research.google.com/github/brianguerrerooo/Ejercicios-Practicar/blob/main/004_area_de_un_cilindro_py.ipynb\" target=\"_parent\"><img src=\"https://colab.research.google.com/assets/colab-badge.svg\" alt=\"Open In Colab\"/></a>"
      ]
    },
    {
      "cell_type": "code",
      "execution_count": 8,
      "metadata": {
        "colab": {
          "base_uri": "https://localhost:8080/"
        },
        "id": "8z66nfmA6Ip5",
        "outputId": "1cbdca3d-f66c-4994-b090-6b252b7fe021"
      },
      "outputs": [
        {
          "output_type": "stream",
          "name": "stdout",
          "text": [
            "altura del cilindro: \n",
            "8\n",
            "radio de la base del cilindro\n",
            "3\n",
            "207.24\n"
          ]
        }
      ],
      "source": [
        "print(\"altura del cilindro: \" )\n",
        "altura = int(input())\n",
        "print(\"radio de la base del cilindro\")\n",
        "radio = int(input())\n",
        "\n",
        "area = 2 * 3.14 * radio * (radio + altura)\n",
        "print(area)"
      ]
    }
  ]
}