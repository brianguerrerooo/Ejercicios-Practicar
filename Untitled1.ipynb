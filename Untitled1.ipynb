{
  "nbformat": 4,
  "nbformat_minor": 0,
  "metadata": {
    "colab": {
      "provenance": [],
      "authorship_tag": "ABX9TyPx3c+21HvZIek/P7iUB80K",
      "include_colab_link": true
    },
    "kernelspec": {
      "name": "python3",
      "display_name": "Python 3"
    },
    "language_info": {
      "name": "python"
    }
  },
  "cells": [
    {
      "cell_type": "markdown",
      "metadata": {
        "id": "view-in-github",
        "colab_type": "text"
      },
      "source": [
        "<a href=\"https://colab.research.google.com/github/brianguerrerooo/Ejercicios-Practicar/blob/main/Untitled1.ipynb\" target=\"_parent\"><img src=\"https://colab.research.google.com/assets/colab-badge.svg\" alt=\"Open In Colab\"/></a>"
      ]
    },
    {
      "cell_type": "code",
      "execution_count": 5,
      "metadata": {
        "colab": {
          "base_uri": "https://localhost:8080/"
        },
        "id": "jsw1YHNZDy5-",
        "outputId": "01055230-e838-4c22-e7d5-cf14a5f54349"
      },
      "outputs": [
        {
          "output_type": "stream",
          "name": "stdout",
          "text": [
            "ingrese las coordenadas X,Y del primer punto: \n",
            "x: \n",
            "7\n",
            "y: \n",
            "5\n",
            "ingrese las coordenadas X,Y del segundo punto: \n",
            "x: \n",
            "4\n",
            "y: \n",
            "1\n",
            "5.0\n"
          ]
        }
      ],
      "source": [
        "print(\"ingrese las coordenadas X,Y del primer punto: \")\n",
        "print(\"x: \")\n",
        "primerx = float(input())\n",
        "print(\"y: \")\n",
        "primery = float(input())\n",
        "\n",
        "print(\"ingrese las coordenadas X,Y del segundo punto: \")\n",
        "print(\"x: \")\n",
        "segundox = float(input())\n",
        "print(\"y: \")\n",
        "segundoy = float(input())\n",
        "\n",
        "distancia = ((segundox - primerx)**2 + (segundoy - primery)**2)**(1/2)\n",
        "redondeado = round (distancia, 2)\n",
        "print (distancia)"
      ]
    }
  ]
}