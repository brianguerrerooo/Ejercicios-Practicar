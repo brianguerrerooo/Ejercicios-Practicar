{
  "nbformat": 4,
  "nbformat_minor": 0,
  "metadata": {
    "colab": {
      "provenance": [],
      "authorship_tag": "ABX9TyMOszGhTTePt0U0ReVxb+6d",
      "include_colab_link": true
    },
    "kernelspec": {
      "name": "python3",
      "display_name": "Python 3"
    },
    "language_info": {
      "name": "python"
    }
  },
  "cells": [
    {
      "cell_type": "markdown",
      "metadata": {
        "id": "view-in-github",
        "colab_type": "text"
      },
      "source": [
        "<a href=\"https://colab.research.google.com/github/brianguerrerooo/Ejercicios-Practicar/blob/main/003Hipotenusa_de_un_triangulo_py.ipynb\" target=\"_parent\"><img src=\"https://colab.research.google.com/assets/colab-badge.svg\" alt=\"Open In Colab\"/></a>"
      ]
    },
    {
      "cell_type": "code",
      "execution_count": 13,
      "metadata": {
        "colab": {
          "base_uri": "https://localhost:8080/"
        },
        "id": "x9u9N_ryzVlb",
        "outputId": "9f7f8e4b-99cc-4b58-cc97-664b97704e15"
      },
      "outputs": [
        {
          "output_type": "stream",
          "name": "stdout",
          "text": [
            "Cateto opuesto (numero entero): \n",
            "2\n",
            "Cateto adyacente (numero entero): \n",
            "3\n",
            "3.605551275463989\n"
          ]
        }
      ],
      "source": [
        "print(\"Cateto opuesto (numero entero): \")\n",
        "catetoo=int(input())\n",
        "print(\"Cateto adyacente (numero entero): \")\n",
        "catetoa=int(input())\n",
        "\n",
        "hipotenusa= (catetoo**2 + catetoa**2)**(1/2)\n",
        "\n",
        "print(hipotenusa)"
      ]
    }
  ]
}