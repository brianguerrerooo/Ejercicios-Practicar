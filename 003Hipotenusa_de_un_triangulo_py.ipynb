{
  "cells": [
    {
      "cell_type": "markdown",
      "metadata": {
        "id": "view-in-github",
        "colab_type": "text"
      },
      "source": [
        "<a href=\"https://colab.research.google.com/github/brianguerrerooo/Ejercicios-Practicar/blob/main/003Hipotenusa_de_un_triangulo_py.ipynb\" target=\"_parent\"><img src=\"https://colab.research.google.com/assets/colab-badge.svg\" alt=\"Open In Colab\"/></a>"
      ]
    },
    {
      "cell_type": "code",
      "execution_count": null,
      "metadata": {
        "colab": {
          "background_save": true,
          "base_uri": "https://localhost:8080/"
        },
        "id": "x9u9N_ryzVlb",
        "outputId": "20297d47-3403-4699-f60a-f70821443de4"
      },
      "outputs": [
        {
          "name": "stdout",
          "output_type": "stream",
          "text": [
            "Cateto opuesto (numero entero): \n"
          ]
        }
      ],
      "source": [
        "print(\"Cateto opuesto (numero entero): \")\n",
        "catetoo=int(input())\n",
        "print(\"Cateto adyacente (numero entero): \")\n",
        "catetoa=int(input())\n",
        "\n",
        "hipotenusa= (catetoo**2 + catetoa**2)**(1/2)\n",
        "\n",
        "print(hipotenusa)"
      ]
    }
  ],
  "metadata": {
    "colab": {
      "provenance": [],
      "authorship_tag": "ABX9TyMOszGhTTePt0U0ReVxb+6d",
      "include_colab_link": true
    },
    "kernelspec": {
      "display_name": "Python 3",
      "name": "python3"
    },
    "language_info": {
      "name": "python"
    }
  },
  "nbformat": 4,
  "nbformat_minor": 0
}